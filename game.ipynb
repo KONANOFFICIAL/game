{
  "nbformat": 4,
  "nbformat_minor": 0,
  "metadata": {
    "colab": {
      "provenance": []
    },
    "kernelspec": {
      "name": "python3",
      "display_name": "Python 3"
    },
    "language_info": {
      "name": "python"
    }
  },
  "cells": [
    {
      "cell_type": "code",
      "source": [
        "import random"
      ],
      "metadata": {
        "id": "yioYvLkT0jNn"
      },
      "execution_count": 17,
      "outputs": []
    },
    {
      "cell_type": "code",
      "source": [
        "\n",
        "print('Winning rules of the game ROCK PAPER SCISSORS are:\\n'\n",
        "      + \"ROCK VER PAPAPER -> PAPER WINS \\n\"\n",
        "      + \"ROCK VER SCISSORS -> ROCK WINS \\n\"\n",
        "      + \"PAPER VER SCISSORS -> SCISSORS WIN \\n\")\n",
        "\n",
        "while True:\n",
        "\n",
        "    print(\"ENTER THE CHOICE \\n 1 - ROCK \\n 2 - PAPER \\n 3 - SCISSOR \\n\")\n",
        "\n",
        "\n",
        "    choose = int(input(\"ENTER CHOICE \"))\n",
        "\n",
        "    while choose > 3 or choose < 1:\n",
        "        choose = int(input('Enter a valid choice please : '))\n",
        "\n",
        "    if choose== 1:\n",
        "        choose_name = 'ROCK'\n",
        "    elif choose == 2:\n",
        "        choose_name = 'PAPER'\n",
        "    else:\n",
        "        choose_name = 'SCISSORS'\n",
        "\n",
        "    # Print user choice\n",
        "    print('User choice is:', choose_name)\n",
        "    print(\"Now it's Computer's Turn...\")\n",
        "\n",
        "    # Computer chooses randomly any number among 1, 2, and 3\n",
        "    comp_choose = random.randint(1, 3)\n",
        "\n",
        "    # Initialize value of comp_choice_name variable corresponding to the choice value\n",
        "    if comp_choose == 1:\n",
        "        comp_choose_name = 'ROCK'\n",
        "    elif comp_choose == 2:\n",
        "        comp_choose_name = 'PAPER'\n",
        "    else:\n",
        "        comp_choose_name = 'SCISSORS'\n",
        "\n",
        "    print(\"Computer choice is:\", comp_choose_name)\n",
        "    print(choose_name, 'vs', comp_choose_name)\n",
        "\n",
        "    # Determine the winner\n",
        "    if choose == comp_choose:\n",
        "        result = \"DRAW\"\n",
        "    elif (choose == 1 and comp_choose == 2) or (comp_choose == 1 and choice == 2):\n",
        "        result = 'Paper'\n",
        "    elif (choose == 1 and comp_choose == 3) or (comp_choose == 1 and choose == 3):\n",
        "        result = 'Rock'\n",
        "    elif (choose == 2 and comp_choose == 3) or (comp_choose == 2 and choose == 3):\n",
        "        result = 'Scissors'\n",
        "\n",
        "\n",
        "    if result == \"DRAW\":\n",
        "        print(\"<== TIE! ==>\")\n",
        "    elif result == choose_name:\n",
        "        print(\"<== User wins! ==>\")\n",
        "    else:\n",
        "        print(\"<== Computer wins! ==>\")\n",
        "\n",
        "    # Ask if the user wants to play again\n",
        "    print(\"Do you want to play again? (Yes/NO)\")\n",
        "    ans = input().lower()\n",
        "    if ans == 'n':\n",
        "        break\n",
        "\n",
        "\n",
        "print(\"OK THANKS FOR PLAYING\")\n"
      ],
      "metadata": {
        "colab": {
          "base_uri": "https://localhost:8080/"
        },
        "id": "HHg828-73Tv3",
        "outputId": "f89a8f41-dfe3-411a-8d77-55e31139cb44"
      },
      "execution_count": null,
      "outputs": [
        {
          "output_type": "stream",
          "name": "stdout",
          "text": [
            "Winning rules of the game ROCK PAPER SCISSORS are:\n",
            "ROCK VER PAPAPER -> PAPER WINS \n",
            "ROCK VER SCISSORS -> ROCK WINS \n",
            "PAPER VER SCISSORS -> SCISSORS WIN \n",
            "\n",
            "ENTER THE CHOICE \n",
            " 1 - ROCK \n",
            " 2 - PAPER \n",
            " 3 - SCISSOR \n",
            "\n",
            "ENTER CHOICE 2\n",
            "User choice is: PAPER\n",
            "Now it's Computer's Turn...\n",
            "Computer choice is: ROCK\n",
            "PAPER vs ROCK\n",
            "<== TIE! ==>\n",
            "Do you want to play again? (Yes/N0)\n",
            "Yes\n",
            "ENTER THE CHOICE \n",
            " 1 - ROCK \n",
            " 2 - PAPER \n",
            " 3 - SCISSOR \n",
            "\n",
            "ENTER CHOICE 1\n",
            "User choice is: ROCK\n",
            "Now it's Computer's Turn...\n",
            "Computer choice is: SCISSORS\n",
            "ROCK vs SCISSORS\n",
            "<== Computer wins! ==>\n",
            "Do you want to play again? (Yes/N0)\n"
          ]
        }
      ]
    }
  ]
}